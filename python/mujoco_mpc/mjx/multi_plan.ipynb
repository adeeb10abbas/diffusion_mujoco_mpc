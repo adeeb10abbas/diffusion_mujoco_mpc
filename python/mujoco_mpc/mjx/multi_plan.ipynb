{
 "cells": [
  {
   "cell_type": "markdown",
   "metadata": {
    "id": "7sNELNzFVhIV"
   },
   "source": [
    "![MuJoCo banner](https://raw.githubusercontent.com/google-deepmind/mujoco/main/banner.png)\n",
    "\n",
    "This notebook provides a tutorial for using Predictive Sampling with MJX."
   ]
  },
  {
   "cell_type": "markdown",
   "metadata": {
    "id": "l9lUn3zmWIwP"
   },
   "source": [
    "### Copyright notice"
   ]
  },
  {
   "cell_type": "markdown",
   "metadata": {
    "id": "7WpsAFhAWjmJ"
   },
   "source": [
    "Copyright 2024 DeepMind Technologies Limited.\n",
    "\n",
    "Licensed under the Apache License, Version 2.0 (the \"License\"); you may not use this file except in compliance with the License. You may obtain a copy of the License at http://www.apache.org/licenses/LICENSE-2.0.\n",
    "\n",
    "Unless required by applicable law or agreed to in writing, software distributed under the License is distributed on an \"AS IS\" BASIS, WITHOUT WARRANTIES OR CONDITIONS OF ANY KIND, either express or implied. See the License for the specific language governing permissions and limitations under the License."
   ]
  },
  {
   "cell_type": "markdown",
   "metadata": {
    "id": "aKSPxKQSWm2Z"
   },
   "source": [
    "# Imports"
   ]
  },
  {
   "cell_type": "code",
   "execution_count": 5,
   "metadata": {
    "cellView": "form",
    "id": "D7Vucuuug6W5"
   },
   "outputs": [
    {
     "name": "stdout",
     "output_type": "stream",
     "text": [
      "mujoco_mpc.mjx isn't installed yet -- please make sure you install it and fetch the task files from the MuJoCo Menagerie GitHub repository.\n"
     ]
    },
    {
     "ename": "AttributeError",
     "evalue": "type object 'mujoco._enums.mjtDisableBit' has no attribute 'mjDSBL_EULERDAMP'",
     "output_type": "error",
     "traceback": [
      "\u001b[0;31m---------------------------------------------------------------------------\u001b[0m",
      "\u001b[0;31mAttributeError\u001b[0m                            Traceback (most recent call last)",
      "Cell \u001b[0;32mIn[5], line 54\u001b[0m\n\u001b[1;32m     52\u001b[0m clear_output()\n\u001b[1;32m     53\u001b[0m \u001b[38;5;28mprint\u001b[39m(\u001b[38;5;124m\"\u001b[39m\u001b[38;5;124mmujoco_mpc.mjx isn\u001b[39m\u001b[38;5;124m'\u001b[39m\u001b[38;5;124mt installed yet -- please make sure you install it and fetch the task files from the MuJoCo Menagerie GitHub repository.\u001b[39m\u001b[38;5;124m\"\u001b[39m)\n\u001b[0;32m---> 54\u001b[0m \u001b[38;5;28;01mfrom\u001b[39;00m \u001b[38;5;21;01mbrax\u001b[39;00m \u001b[38;5;28;01mimport\u001b[39;00m base \u001b[38;5;28;01mas\u001b[39;00m brax_base\n\u001b[1;32m     55\u001b[0m \u001b[38;5;28;01mfrom\u001b[39;00m \u001b[38;5;21;01mbrax\u001b[39;00m\u001b[38;5;21;01m.\u001b[39;00m\u001b[38;5;21;01mio\u001b[39;00m \u001b[38;5;28;01mimport\u001b[39;00m html\n\u001b[1;32m     56\u001b[0m \u001b[38;5;28;01mfrom\u001b[39;00m \u001b[38;5;21;01mbrax\u001b[39;00m\u001b[38;5;21;01m.\u001b[39;00m\u001b[38;5;21;01mio\u001b[39;00m \u001b[38;5;28;01mimport\u001b[39;00m mjcf\n",
      "File \u001b[0;32m~/miniconda3/envs/mjpc_w_diffusion/lib/python3.10/site-packages/brax/__init__.py:19\u001b[0m\n\u001b[1;32m     15\u001b[0m \u001b[38;5;124;03m\"\"\"Import top-level classes and functions here for encapsulation/clarity.\"\"\"\u001b[39;00m\n\u001b[1;32m     17\u001b[0m __version__ \u001b[38;5;241m=\u001b[39m \u001b[38;5;124m'\u001b[39m\u001b[38;5;124m0.10.5\u001b[39m\u001b[38;5;124m'\u001b[39m\n\u001b[0;32m---> 19\u001b[0m \u001b[38;5;28;01mfrom\u001b[39;00m \u001b[38;5;21;01mbrax\u001b[39;00m\u001b[38;5;21;01m.\u001b[39;00m\u001b[38;5;21;01mbase\u001b[39;00m \u001b[38;5;28;01mimport\u001b[39;00m Motion\n\u001b[1;32m     20\u001b[0m \u001b[38;5;28;01mfrom\u001b[39;00m \u001b[38;5;21;01mbrax\u001b[39;00m\u001b[38;5;21;01m.\u001b[39;00m\u001b[38;5;21;01mbase\u001b[39;00m \u001b[38;5;28;01mimport\u001b[39;00m State\n\u001b[1;32m     21\u001b[0m \u001b[38;5;28;01mfrom\u001b[39;00m \u001b[38;5;21;01mbrax\u001b[39;00m\u001b[38;5;21;01m.\u001b[39;00m\u001b[38;5;21;01mbase\u001b[39;00m \u001b[38;5;28;01mimport\u001b[39;00m System\n",
      "File \u001b[0;32m~/miniconda3/envs/mjpc_w_diffusion/lib/python3.10/site-packages/brax/base.py:29\u001b[0m\n\u001b[1;32m     27\u001b[0m \u001b[38;5;28;01mfrom\u001b[39;00m \u001b[38;5;21;01mjax\u001b[39;00m\u001b[38;5;21;01m.\u001b[39;00m\u001b[38;5;21;01mtree_util\u001b[39;00m \u001b[38;5;28;01mimport\u001b[39;00m tree_map\n\u001b[1;32m     28\u001b[0m \u001b[38;5;28;01mimport\u001b[39;00m \u001b[38;5;21;01mmujoco\u001b[39;00m\n\u001b[0;32m---> 29\u001b[0m \u001b[38;5;28;01mfrom\u001b[39;00m \u001b[38;5;21;01mmujoco\u001b[39;00m \u001b[38;5;28;01mimport\u001b[39;00m mjx\n\u001b[1;32m     30\u001b[0m \u001b[38;5;28;01mimport\u001b[39;00m \u001b[38;5;21;01mnumpy\u001b[39;00m \u001b[38;5;28;01mas\u001b[39;00m \u001b[38;5;21;01mnp\u001b[39;00m\n\u001b[1;32m     32\u001b[0m \u001b[38;5;66;03m# f: free, 1: 1-dof, 2: 2-dof, 3: 3-dof\u001b[39;00m\n",
      "File \u001b[0;32m~/.local/lib/python3.10/site-packages/mujoco/mjx/__init__.py:18\u001b[0m\n\u001b[1;32m     15\u001b[0m \u001b[38;5;124;03m\"\"\"Public API for MJX.\"\"\"\u001b[39;00m\n\u001b[1;32m     17\u001b[0m \u001b[38;5;66;03m# pylint:disable=g-importing-member\u001b[39;00m\n\u001b[0;32m---> 18\u001b[0m \u001b[38;5;28;01mfrom\u001b[39;00m \u001b[38;5;21;01mmujoco\u001b[39;00m\u001b[38;5;21;01m.\u001b[39;00m\u001b[38;5;21;01mmjx\u001b[39;00m\u001b[38;5;21;01m.\u001b[39;00m\u001b[38;5;21;01m_src\u001b[39;00m\u001b[38;5;21;01m.\u001b[39;00m\u001b[38;5;21;01mcollision_driver\u001b[39;00m \u001b[38;5;28;01mimport\u001b[39;00m collision\n\u001b[1;32m     19\u001b[0m \u001b[38;5;28;01mfrom\u001b[39;00m \u001b[38;5;21;01mmujoco\u001b[39;00m\u001b[38;5;21;01m.\u001b[39;00m\u001b[38;5;21;01mmjx\u001b[39;00m\u001b[38;5;21;01m.\u001b[39;00m\u001b[38;5;21;01m_src\u001b[39;00m\u001b[38;5;21;01m.\u001b[39;00m\u001b[38;5;21;01mcollision_driver\u001b[39;00m \u001b[38;5;28;01mimport\u001b[39;00m ncon\n\u001b[1;32m     20\u001b[0m \u001b[38;5;28;01mfrom\u001b[39;00m \u001b[38;5;21;01mmujoco\u001b[39;00m\u001b[38;5;21;01m.\u001b[39;00m\u001b[38;5;21;01mmjx\u001b[39;00m\u001b[38;5;21;01m.\u001b[39;00m\u001b[38;5;21;01m_src\u001b[39;00m\u001b[38;5;21;01m.\u001b[39;00m\u001b[38;5;21;01mconstraint\u001b[39;00m \u001b[38;5;28;01mimport\u001b[39;00m count_constraints\n",
      "File \u001b[0;32m~/.local/lib/python3.10/site-packages/mujoco/mjx/_src/collision_driver.py:22\u001b[0m\n\u001b[1;32m     20\u001b[0m \u001b[38;5;28;01mfrom\u001b[39;00m \u001b[38;5;21;01mjax\u001b[39;00m \u001b[38;5;28;01mimport\u001b[39;00m numpy \u001b[38;5;28;01mas\u001b[39;00m jp\n\u001b[1;32m     21\u001b[0m \u001b[38;5;28;01mimport\u001b[39;00m \u001b[38;5;21;01mmujoco\u001b[39;00m\n\u001b[0;32m---> 22\u001b[0m \u001b[38;5;28;01mfrom\u001b[39;00m \u001b[38;5;21;01mmujoco\u001b[39;00m\u001b[38;5;21;01m.\u001b[39;00m\u001b[38;5;21;01mmjx\u001b[39;00m\u001b[38;5;21;01m.\u001b[39;00m\u001b[38;5;21;01m_src\u001b[39;00m \u001b[38;5;28;01mimport\u001b[39;00m collision_base\n\u001b[1;32m     23\u001b[0m \u001b[38;5;28;01mfrom\u001b[39;00m \u001b[38;5;21;01mmujoco\u001b[39;00m\u001b[38;5;21;01m.\u001b[39;00m\u001b[38;5;21;01mmjx\u001b[39;00m\u001b[38;5;21;01m.\u001b[39;00m\u001b[38;5;21;01m_src\u001b[39;00m \u001b[38;5;28;01mimport\u001b[39;00m support\n\u001b[1;32m     24\u001b[0m \u001b[38;5;28;01mfrom\u001b[39;00m \u001b[38;5;21;01mmujoco\u001b[39;00m\u001b[38;5;21;01m.\u001b[39;00m\u001b[38;5;21;01mmjx\u001b[39;00m\u001b[38;5;21;01m.\u001b[39;00m\u001b[38;5;21;01m_src\u001b[39;00m \u001b[38;5;28;01mimport\u001b[39;00m math\n",
      "File \u001b[0;32m~/.local/lib/python3.10/site-packages/mujoco/mjx/_src/collision_base.py:23\u001b[0m\n\u001b[1;32m     21\u001b[0m \u001b[38;5;66;03m# pylint: disable=g-importing-member\u001b[39;00m\n\u001b[1;32m     22\u001b[0m \u001b[38;5;28;01mfrom\u001b[39;00m \u001b[38;5;21;01mmujoco\u001b[39;00m\u001b[38;5;21;01m.\u001b[39;00m\u001b[38;5;21;01mmjx\u001b[39;00m\u001b[38;5;21;01m.\u001b[39;00m\u001b[38;5;21;01m_src\u001b[39;00m\u001b[38;5;21;01m.\u001b[39;00m\u001b[38;5;21;01mdataclasses\u001b[39;00m \u001b[38;5;28;01mimport\u001b[39;00m PyTreeNode\n\u001b[0;32m---> 23\u001b[0m \u001b[38;5;28;01mfrom\u001b[39;00m \u001b[38;5;21;01mmujoco\u001b[39;00m\u001b[38;5;21;01m.\u001b[39;00m\u001b[38;5;21;01mmjx\u001b[39;00m\u001b[38;5;21;01m.\u001b[39;00m\u001b[38;5;21;01m_src\u001b[39;00m\u001b[38;5;21;01m.\u001b[39;00m\u001b[38;5;21;01mtypes\u001b[39;00m \u001b[38;5;28;01mimport\u001b[39;00m GeomType\n\u001b[1;32m     24\u001b[0m \u001b[38;5;66;03m# pylint: enable=g-importing-member\u001b[39;00m\n\u001b[1;32m     26\u001b[0m Contact \u001b[38;5;241m=\u001b[39m Tuple[jax\u001b[38;5;241m.\u001b[39mArray, jax\u001b[38;5;241m.\u001b[39mArray, jax\u001b[38;5;241m.\u001b[39mArray]\n",
      "File \u001b[0;32m~/.local/lib/python3.10/site-packages/mujoco/mjx/_src/types.py:27\u001b[0m\n\u001b[1;32m     23\u001b[0m \u001b[38;5;28;01mfrom\u001b[39;00m \u001b[38;5;21;01mmujoco\u001b[39;00m\u001b[38;5;21;01m.\u001b[39;00m\u001b[38;5;21;01mmjx\u001b[39;00m\u001b[38;5;21;01m.\u001b[39;00m\u001b[38;5;21;01m_src\u001b[39;00m\u001b[38;5;21;01m.\u001b[39;00m\u001b[38;5;21;01mdataclasses\u001b[39;00m \u001b[38;5;28;01mimport\u001b[39;00m PyTreeNode  \u001b[38;5;66;03m# pylint: disable=g-importing-member\u001b[39;00m\n\u001b[1;32m     24\u001b[0m \u001b[38;5;28;01mimport\u001b[39;00m \u001b[38;5;21;01mnumpy\u001b[39;00m \u001b[38;5;28;01mas\u001b[39;00m \u001b[38;5;21;01mnp\u001b[39;00m\n\u001b[0;32m---> 27\u001b[0m \u001b[38;5;28;01mclass\u001b[39;00m \u001b[38;5;21;01mDisableBit\u001b[39;00m(enum\u001b[38;5;241m.\u001b[39mIntFlag):\n\u001b[1;32m     28\u001b[0m \u001b[38;5;250m  \u001b[39m\u001b[38;5;124;03m\"\"\"Disable default feature bitflags.\u001b[39;00m\n\u001b[1;32m     29\u001b[0m \n\u001b[1;32m     30\u001b[0m \u001b[38;5;124;03m  Attributes:\u001b[39;00m\n\u001b[0;32m   (...)\u001b[0m\n\u001b[1;32m     41\u001b[0m \u001b[38;5;124;03m    REFSAFE:      integrator safety: make ref[0]>=2*timestep\u001b[39;00m\n\u001b[1;32m     42\u001b[0m \u001b[38;5;124;03m  \"\"\"\u001b[39;00m\n\u001b[1;32m     43\u001b[0m   CONSTRAINT \u001b[38;5;241m=\u001b[39m mujoco\u001b[38;5;241m.\u001b[39mmjtDisableBit\u001b[38;5;241m.\u001b[39mmjDSBL_CONSTRAINT\n",
      "File \u001b[0;32m~/.local/lib/python3.10/site-packages/mujoco/mjx/_src/types.py:53\u001b[0m, in \u001b[0;36mDisableBit\u001b[0;34m()\u001b[0m\n\u001b[1;32m     51\u001b[0m ACTUATION \u001b[38;5;241m=\u001b[39m mujoco\u001b[38;5;241m.\u001b[39mmjtDisableBit\u001b[38;5;241m.\u001b[39mmjDSBL_ACTUATION\n\u001b[1;32m     52\u001b[0m REFSAFE \u001b[38;5;241m=\u001b[39m mujoco\u001b[38;5;241m.\u001b[39mmjtDisableBit\u001b[38;5;241m.\u001b[39mmjDSBL_REFSAFE\n\u001b[0;32m---> 53\u001b[0m EULERDAMP \u001b[38;5;241m=\u001b[39m \u001b[43mmujoco\u001b[49m\u001b[38;5;241;43m.\u001b[39;49m\u001b[43mmjtDisableBit\u001b[49m\u001b[38;5;241;43m.\u001b[39;49m\u001b[43mmjDSBL_EULERDAMP\u001b[49m\n\u001b[1;32m     54\u001b[0m FILTERPARENT \u001b[38;5;241m=\u001b[39m mujoco\u001b[38;5;241m.\u001b[39mmjtDisableBit\u001b[38;5;241m.\u001b[39mmjDSBL_FILTERPARENT\n",
      "\u001b[0;31mAttributeError\u001b[0m: type object 'mujoco._enums.mjtDisableBit' has no attribute 'mjDSBL_EULERDAMP'"
     ]
    }
   ],
   "source": [
    "!pip install brax\n",
    "!pip install mujoco-py==1.50.1.68\n",
    "\n",
    "import mujoco\n",
    "mujoco.__version__\n",
    "\n",
    "# # Set up GPU rendering.\n",
    "# from google.colab import files\n",
    "import distutils.util\n",
    "import os\n",
    "import subprocess\n",
    "if subprocess.run('nvidia-smi').returncode:\n",
    "  raise RuntimeError(\n",
    "      'Cannot communicate with GPU. '\n",
    "      'Make sure you are using a GPU Colab runtime. '\n",
    "      'Go to the Runtime menu and select Choose runtime type.')\n",
    "\n",
    "# Add an ICD config so that glvnd can pick up the Nvidia EGL driver.\n",
    "# This is usually installed as part of an Nvidia driver package, but the Colab\n",
    "# kernel doesn't install its driver via APT, and as a result the ICD is missing.\n",
    "# (https://github.com/NVIDIA/libglvnd/blob/master/src/EGL/icd_enumeration.md)\n",
    "NVIDIA_ICD_CONFIG_PATH = '/usr/share/glvnd/egl_vendor.d/10_nvidia.json'\n",
    "if not os.path.exists(NVIDIA_ICD_CONFIG_PATH):\n",
    "  with open(NVIDIA_ICD_CONFIG_PATH, 'w') as f:\n",
    "    f.write(\"\"\"{\n",
    "    \"file_format_version\" : \"1.0.0\",\n",
    "    \"ICD\" : {\n",
    "        \"library_path\" : \"libEGL_nvidia.so.0\"\n",
    "    }\n",
    "}\n",
    "\"\"\")\n",
    "\n",
    "# Configure MuJoCo to use the EGL rendering backend (requires GPU)\n",
    "print('Setting environment variable to use GPU rendering:')\n",
    "%env MUJOCO_GL=egl\n",
    "\n",
    "# Check if installation was succesful.\n",
    "try:\n",
    "  print('Checking that the installation succeeded:')\n",
    "  import mujoco\n",
    "  mujoco.MjModel.from_xml_string('<mujoco/>')\n",
    "except Exception as e:\n",
    "  raise e from RuntimeError(\n",
    "      'Something went wrong during installation. Check the shell output above '\n",
    "      'for more information.\\n'\n",
    "      'If using a hosted Colab runtime, make sure you enable GPU acceleration '\n",
    "      'by going to the Runtime menu and selecting \"Choose runtime type\".')\n",
    "\n",
    "print('Installation successful.')\n",
    "\n",
    "from IPython.display import clear_output\n",
    "clear_output()\n",
    "print(\"mujoco_mpc.mjx isn't installed yet -- please make sure you install it and fetch the task files from the MuJoCo Menagerie GitHub repository.\")\n",
    "from brax import base as brax_base\n",
    "from brax.io import html\n",
    "from brax.io import mjcf\n",
    "from IPython.display import HTML\n",
    "import jax\n",
    "import matplotlib.pyplot as plt\n",
    "from mujoco import mjx\n",
    "from mujoco_mpc.mjx import predictive_sampling\n",
    "from mujoco_mpc.mjx.tasks import insert\n",
    "import numpy as np"
   ]
  },
  {
   "cell_type": "markdown",
   "metadata": {
    "id": "qDbIhqEP5DtK"
   },
   "source": [
    "# Load task, run optimization"
   ]
  },
  {
   "cell_type": "code",
   "execution_count": null,
   "metadata": {
    "cellView": "form",
    "id": "RIB7ywe9g6W6"
   },
   "outputs": [],
   "source": [
    "sim_model_cpu, plan_model_cpu, cost_fn, instruction_fn = insert.get_models_and_cost_fn()"
   ]
  },
  {
   "cell_type": "code",
   "execution_count": null,
   "metadata": {
    "cellView": "form",
    "id": "XcGmBj61g6W6"
   },
   "outputs": [],
   "source": [
    "costs_to_compare = {}\n",
    "for it in [0.8]:\n",
    "  nsteps = 2000\n",
    "  steps_per_plan = 10\n",
    "  batch_size = 1024\n",
    "  nsamples = 256\n",
    "  nplans = batch_size // nsamples\n",
    "  print(f'nplans: {nplans}')\n",
    "\n",
    "  p = predictive_sampling.Planner(\n",
    "      model=mjx.put_model(plan_model_cpu),\n",
    "      cost=cost_fn,\n",
    "      noise_scale=it,  # iterate on different values\n",
    "      horizon=128,\n",
    "      nspline=4,\n",
    "      nsample=nsamples - 1,\n",
    "      interp='zero',\n",
    "      instruction_fn=instruction_fn,\n",
    "  )\n",
    "\n",
    "  sim_data = mujoco.MjData(sim_model_cpu)\n",
    "  mujoco.mj_resetDataKeyframe(sim_model_cpu, sim_data, 0)\n",
    "  # without kinematics, the first cost is off:\n",
    "  mujoco.mj_forward(sim_model_cpu, sim_data)\n",
    "  sim_data = mjx.put_data(sim_model_cpu, sim_data)\n",
    "  q0s = np.tile(sim_data.qpos, (nplans, 1))\n",
    "  def set_qpos(data, qpos):\n",
    "    return data.replace(qpos=qpos)\n",
    "  sim_datas = jax.vmap(set_qpos, in_axes=(None, 0))(sim_data, q0s)\n",
    "  multi_policy = np.tile(sim_model_cpu.key_ctrl[0, :], (nplans, p.nspline, 1))\n",
    "  mpc_rollout_multiplan = jax.vmap(\n",
    "      predictive_sampling.mpc_rollout, in_axes=(\n",
    "          None,  # nsteps\n",
    "          None,  # steps_per_plan\n",
    "          None,  # Planner\n",
    "          0,     # init_policy\n",
    "          0,     # rng\n",
    "          None,  # sim_model\n",
    "          0,     # sim_data\n",
    "      )\n",
    "  )\n",
    "\n",
    "  sim_datas, final_policy, costs, trajectories, terms = jax.jit(\n",
    "      mpc_rollout_multiplan, static_argnums=[0, 1]\n",
    "  )(\n",
    "      nsteps,\n",
    "      steps_per_plan,\n",
    "      p,\n",
    "      jax.device_put(multi_policy),\n",
    "      jax.random.split(jax.random.key(0), nplans),\n",
    "      mjx.put_model(sim_model_cpu),\n",
    "      sim_datas,\n",
    "  )\n",
    "  costs = np.sum(terms.reshape(nplans, -1, terms.shape[-1])[:, :, 2:13:2], axis=-1)\n",
    "  costs_to_compare[it] = costs\n",
    "\n",
    "  plt.figure()\n",
    "  plt.xlim([0, nsteps * sim_model_cpu.opt.timestep])\n",
    "  plt.ylim([0, max(costs.flatten())])\n",
    "  plt.xlabel('time')\n",
    "  plt.ylabel('cost')\n",
    "  x_time = [i * sim_model_cpu.opt.timestep for i in range(nsteps)]\n",
    "  for i in range(nplans):\n",
    "    plt.plot(x_time, costs[i, :], alpha=0.1)\n",
    "  avg = np.mean(costs, axis=0)\n",
    "  plt.plot(x_time, avg, linewidth=2.0)\n",
    "  var = np.var(costs, axis=0)\n",
    "  plt.errorbar(\n",
    "      x_time,\n",
    "      avg,\n",
    "      yerr=var,\n",
    "      fmt='none',\n",
    "      ecolor='b',\n",
    "      elinewidth=1,\n",
    "      alpha=0.2,\n",
    "      capsize=0,\n",
    "  )\n",
    "\n",
    "  plt.show()\n",
    "  costs_to_compare[it] = costs"
   ]
  },
  {
   "cell_type": "code",
   "execution_count": null,
   "metadata": {
    "cellView": "form",
    "id": "5ic6_2F8g6W6"
   },
   "outputs": [],
   "source": [
    "plt.figure()\n",
    "plt.xlim([0, nsteps * sim_model_cpu.opt.timestep])\n",
    "plt.ylim([0, max(costs.flatten())])\n",
    "plt.xlabel('time')\n",
    "plt.ylabel('cost')\n",
    "x_time = [i * sim_model_cpu.opt.timestep for i in range(nsteps)]\n",
    "for val, costs in costs_to_compare.items():\n",
    "  avg = np.mean(costs, axis=0)\n",
    "  plt.plot(x_time, avg, label=str(val))\n",
    "  var = np.var(costs, axis=0)\n",
    "  plt.errorbar(\n",
    "      x_time, avg, yerr=var, fmt='none', elinewidth=1, alpha=0.2, capsize=0\n",
    "  )\n",
    "\n",
    "plt.legend()\n",
    "plt.show()"
   ]
  },
  {
   "cell_type": "code",
   "execution_count": null,
   "metadata": {
    "cellView": "form",
    "id": "GkfgJQohg6W6"
   },
   "outputs": [],
   "source": [
    "d = mujoco.MjData(sim_model_cpu)\n",
    "sys = mjcf.load_model(sim_model_cpu)\n",
    "xstates = []\n",
    "for qpos in trajectories.q[2].reshape(-1, sim_model_cpu.nq):\n",
    "  d.qpos = qpos\n",
    "  mujoco.mj_kinematics(sim_model_cpu, d)\n",
    "  x = brax_base.Transform(pos=d.xpos[1:].copy(), rot=d.xquat[1:].copy())\n",
    "  xstates.append(brax_base.State(q=None, qd=None, x=x, xd=None, contact=None))\n",
    "\n",
    "HTML(html.render(sys, xstates))"
   ]
  },
  {
   "cell_type": "code",
   "execution_count": null,
   "metadata": {
    "id": "7lHL2pxsShyH"
   },
   "outputs": [],
   "source": []
  }
 ],
 "metadata": {
  "colab": {
   "collapsed_sections": [
    "l9lUn3zmWIwP",
    "Ir0HGCL_4-qw"
   ],
   "private_outputs": true
  },
  "kernelspec": {
   "display_name": "Python 3",
   "name": "python3"
  },
  "language_info": {
   "codemirror_mode": {
    "name": "ipython",
    "version": 3
   },
   "file_extension": ".py",
   "mimetype": "text/x-python",
   "name": "python",
   "nbconvert_exporter": "python",
   "pygments_lexer": "ipython3",
   "version": "3.10.14"
  }
 },
 "nbformat": 4,
 "nbformat_minor": 0
}
